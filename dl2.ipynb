{
 "cells": [
  {
   "cell_type": "code",
   "execution_count": 42,
   "id": "a29df8e5",
   "metadata": {},
   "outputs": [],
   "source": [
    "import numpy as np\n",
    "import tensorflow as tf\n",
    "from tensorflow import keras"
   ]
  },
  {
   "cell_type": "code",
   "execution_count": 43,
   "id": "3a8c92f7",
   "metadata": {},
   "outputs": [
    {
     "data": {
      "text/html": [
       "<div>\n",
       "<style scoped>\n",
       "    .dataframe tbody tr th:only-of-type {\n",
       "        vertical-align: middle;\n",
       "    }\n",
       "\n",
       "    .dataframe tbody tr th {\n",
       "        vertical-align: top;\n",
       "    }\n",
       "\n",
       "    .dataframe thead th {\n",
       "        text-align: right;\n",
       "    }\n",
       "</style>\n",
       "<table border=\"1\" class=\"dataframe\">\n",
       "  <thead>\n",
       "    <tr style=\"text-align: right;\">\n",
       "      <th></th>\n",
       "      <th>review</th>\n",
       "      <th>sentiment</th>\n",
       "    </tr>\n",
       "  </thead>\n",
       "  <tbody>\n",
       "    <tr>\n",
       "      <th>0</th>\n",
       "      <td>One of the other reviewers has mentioned that ...</td>\n",
       "      <td>positive</td>\n",
       "    </tr>\n",
       "    <tr>\n",
       "      <th>1</th>\n",
       "      <td>A wonderful little production. &lt;br /&gt;&lt;br /&gt;The...</td>\n",
       "      <td>positive</td>\n",
       "    </tr>\n",
       "    <tr>\n",
       "      <th>2</th>\n",
       "      <td>I thought this was a wonderful way to spend ti...</td>\n",
       "      <td>positive</td>\n",
       "    </tr>\n",
       "    <tr>\n",
       "      <th>3</th>\n",
       "      <td>Basically there's a family where a little boy ...</td>\n",
       "      <td>negative</td>\n",
       "    </tr>\n",
       "    <tr>\n",
       "      <th>4</th>\n",
       "      <td>Petter Mattei's \"Love in the Time of Money\" is...</td>\n",
       "      <td>positive</td>\n",
       "    </tr>\n",
       "    <tr>\n",
       "      <th>...</th>\n",
       "      <td>...</td>\n",
       "      <td>...</td>\n",
       "    </tr>\n",
       "    <tr>\n",
       "      <th>49995</th>\n",
       "      <td>I thought this movie did a down right good job...</td>\n",
       "      <td>positive</td>\n",
       "    </tr>\n",
       "    <tr>\n",
       "      <th>49996</th>\n",
       "      <td>Bad plot, bad dialogue, bad acting, idiotic di...</td>\n",
       "      <td>negative</td>\n",
       "    </tr>\n",
       "    <tr>\n",
       "      <th>49997</th>\n",
       "      <td>I am a Catholic taught in parochial elementary...</td>\n",
       "      <td>negative</td>\n",
       "    </tr>\n",
       "    <tr>\n",
       "      <th>49998</th>\n",
       "      <td>I'm going to have to disagree with the previou...</td>\n",
       "      <td>negative</td>\n",
       "    </tr>\n",
       "    <tr>\n",
       "      <th>49999</th>\n",
       "      <td>No one expects the Star Trek movies to be high...</td>\n",
       "      <td>negative</td>\n",
       "    </tr>\n",
       "  </tbody>\n",
       "</table>\n",
       "<p>50000 rows × 2 columns</p>\n",
       "</div>"
      ],
      "text/plain": [
       "                                                  review sentiment\n",
       "0      One of the other reviewers has mentioned that ...  positive\n",
       "1      A wonderful little production. <br /><br />The...  positive\n",
       "2      I thought this was a wonderful way to spend ti...  positive\n",
       "3      Basically there's a family where a little boy ...  negative\n",
       "4      Petter Mattei's \"Love in the Time of Money\" is...  positive\n",
       "...                                                  ...       ...\n",
       "49995  I thought this movie did a down right good job...  positive\n",
       "49996  Bad plot, bad dialogue, bad acting, idiotic di...  negative\n",
       "49997  I am a Catholic taught in parochial elementary...  negative\n",
       "49998  I'm going to have to disagree with the previou...  negative\n",
       "49999  No one expects the Star Trek movies to be high...  negative\n",
       "\n",
       "[50000 rows x 2 columns]"
      ]
     },
     "execution_count": 43,
     "metadata": {},
     "output_type": "execute_result"
    }
   ],
   "source": [
    "import pandas as pd\n",
    "df = pd.read_csv(\"D:/Training Datasets/IMDB.csv\")\n",
    "df"
   ]
  },
  {
   "cell_type": "code",
   "execution_count": 44,
   "id": "11b88bfe",
   "metadata": {},
   "outputs": [],
   "source": [
    "from sklearn.model_selection import train_test_split\n",
    "from tensorflow.keras.preprocessing.sequence import pad_sequences\n",
    "from tensorflow.keras.datasets import imdb\n",
    "from tensorflow.keras.preprocessing.text import Tokenizer\n",
    "\n",
    "# Assuming the dataset has 'review' column for text and 'sentiment' column for labels\n",
    "reviews = df['review'].values\n",
    "labels = df['sentiment'].values\n",
    "\n",
    "# Tokenize the text data and restrict to top 10,000 words\n",
    "tokenizer = Tokenizer(num_words=10000)\n",
    "tokenizer.fit_on_texts(reviews)\n",
    "reviews_tokenized = tokenizer.texts_to_sequences(reviews)"
   ]
  },
  {
   "cell_type": "code",
   "execution_count": 45,
   "id": "78775ad0",
   "metadata": {},
   "outputs": [],
   "source": [
    "\n",
    "# Pad sequences to a maximum length of 250\n",
    "max_len = 250\n",
    "reviews_padded = pad_sequences(reviews_tokenized, maxlen=max_len)"
   ]
  },
  {
   "cell_type": "code",
   "execution_count": 46,
   "id": "e9f6a3c7",
   "metadata": {},
   "outputs": [],
   "source": [
    "x_train, x_test, y_train, y_test = train_test_split(reviews_padded, labels, test_size=0.2, random_state=42)"
   ]
  },
  {
   "cell_type": "code",
   "execution_count": 47,
   "id": "4e94b438",
   "metadata": {},
   "outputs": [
    {
     "data": {
      "text/plain": [
       "array([1, 1, 0, ..., 1, 0, 1])"
      ]
     },
     "execution_count": 47,
     "metadata": {},
     "output_type": "execute_result"
    }
   ],
   "source": [
    "from sklearn.preprocessing import LabelEncoder\n",
    "\n",
    "# Initialize LabelEncoder\n",
    "label_encoder = LabelEncoder()\n",
    "\n",
    "# Fit and transform labels for training data\n",
    "y_train = label_encoder.fit_transform(y_train)\n",
    "\n",
    "# Transform labels for testing data (using the same encoder)\n",
    "y_test = label_encoder.transform(y_test)\n",
    "y_test"
   ]
  },
  {
   "cell_type": "code",
   "execution_count": 48,
   "id": "da870f3c",
   "metadata": {},
   "outputs": [
    {
     "name": "stdout",
     "output_type": "stream",
     "text": [
      "Training set shape: (40000, 250) (40000,)\n",
      "Testing set shape: (10000, 250) (10000,)\n"
     ]
    }
   ],
   "source": [
    "print(\"Training set shape:\", x_train.shape, y_train.shape)\n",
    "print(\"Testing set shape:\", x_test.shape, y_test.shape)"
   ]
  },
  {
   "cell_type": "code",
   "execution_count": 49,
   "id": "1bea7773",
   "metadata": {},
   "outputs": [],
   "source": [
    "embedding_size = 32"
   ]
  },
  {
   "cell_type": "code",
   "execution_count": 50,
   "id": "6a0b51ae",
   "metadata": {},
   "outputs": [],
   "source": [
    "# Define model\n",
    "from tensorflow.keras.models import Sequential\n",
    "from tensorflow.keras.layers import Dense, Embedding, Flatten\n",
    "model = Sequential()\n",
    "model.add(Embedding(num_words, embedding_size, input_length=max_len))\n",
    "model.add(Flatten())\n",
    "model.add(Dense(1, activation='sigmoid'))"
   ]
  },
  {
   "cell_type": "code",
   "execution_count": 51,
   "id": "79cffbf2",
   "metadata": {},
   "outputs": [],
   "source": [
    "model.compile(optimizer='adam', loss='binary_crossentropy', metrics=['accuracy'])\n"
   ]
  },
  {
   "cell_type": "code",
   "execution_count": 52,
   "id": "4f4328d8",
   "metadata": {},
   "outputs": [
    {
     "name": "stdout",
     "output_type": "stream",
     "text": [
      "Epoch 1/10\n",
      "500/500 [==============================] - 7s 13ms/step - loss: 0.4573 - accuracy: 0.7789 - val_loss: 0.2821 - val_accuracy: 0.8851\n",
      "Epoch 2/10\n",
      "500/500 [==============================] - 6s 13ms/step - loss: 0.2180 - accuracy: 0.9154 - val_loss: 0.2618 - val_accuracy: 0.8896\n",
      "Epoch 3/10\n",
      "500/500 [==============================] - 6s 12ms/step - loss: 0.1388 - accuracy: 0.9547 - val_loss: 0.2698 - val_accuracy: 0.8865\n",
      "Epoch 4/10\n",
      "500/500 [==============================] - 6s 12ms/step - loss: 0.0778 - accuracy: 0.9827 - val_loss: 0.2884 - val_accuracy: 0.8848\n",
      "Epoch 5/10\n",
      "500/500 [==============================] - 6s 12ms/step - loss: 0.0405 - accuracy: 0.9950 - val_loss: 0.3100 - val_accuracy: 0.8814\n",
      "Epoch 6/10\n",
      "500/500 [==============================] - 6s 12ms/step - loss: 0.0218 - accuracy: 0.9981 - val_loss: 0.3322 - val_accuracy: 0.8835\n",
      "Epoch 7/10\n",
      "500/500 [==============================] - 6s 12ms/step - loss: 0.0122 - accuracy: 0.9996 - val_loss: 0.3538 - val_accuracy: 0.8817\n",
      "Epoch 8/10\n",
      "500/500 [==============================] - 6s 12ms/step - loss: 0.0075 - accuracy: 0.9998 - val_loss: 0.3773 - val_accuracy: 0.8800\n",
      "Epoch 9/10\n",
      "500/500 [==============================] - 6s 12ms/step - loss: 0.0047 - accuracy: 1.0000 - val_loss: 0.3938 - val_accuracy: 0.8811\n",
      "Epoch 10/10\n",
      "500/500 [==============================] - 6s 11ms/step - loss: 0.0030 - accuracy: 1.0000 - val_loss: 0.4128 - val_accuracy: 0.8804\n"
     ]
    },
    {
     "data": {
      "text/plain": [
       "<keras.src.callbacks.History at 0x209578baec0>"
      ]
     },
     "execution_count": 52,
     "metadata": {},
     "output_type": "execute_result"
    }
   ],
   "source": [
    "model.fit(x_train, y_train, batch_size=64, epochs=10, validation_split=0.2)\n"
   ]
  },
  {
   "cell_type": "code",
   "execution_count": 53,
   "id": "826be37d",
   "metadata": {},
   "outputs": [
    {
     "name": "stdout",
     "output_type": "stream",
     "text": [
      "313/313 [==============================] - 1s 3ms/step - loss: 0.3832 - accuracy: 0.8850\n",
      "Test Accuracy: 88.50%\n"
     ]
    }
   ],
   "source": [
    "# Evaluate model\n",
    "loss, accuracy = model.evaluate(x_test, y_test)\n",
    "print(f\"Test Accuracy: {accuracy * 100:.2f}%\")"
   ]
  },
  {
   "cell_type": "code",
   "execution_count": 54,
   "id": "05a39081",
   "metadata": {},
   "outputs": [
    {
     "name": "stdout",
     "output_type": "stream",
     "text": [
      "313/313 [==============================] - 1s 3ms/step\n"
     ]
    }
   ],
   "source": [
    "# Predict labels for test data\n",
    "y_pred = (model.predict(x_test) > 0.5).astype(\"int32\")"
   ]
  },
  {
   "cell_type": "code",
   "execution_count": 55,
   "id": "cf78686f",
   "metadata": {},
   "outputs": [
    {
     "data": {
      "text/plain": [
       "array([[4362,  599],\n",
       "       [ 551, 4488]], dtype=int64)"
      ]
     },
     "execution_count": 55,
     "metadata": {},
     "output_type": "execute_result"
    }
   ],
   "source": [
    "from sklearn.metrics import confusion_matrix\n",
    "cm = confusion_matrix(y_test, y_pred)\n",
    "cm"
   ]
  },
  {
   "cell_type": "code",
   "execution_count": 56,
   "id": "f00cb554",
   "metadata": {},
   "outputs": [
    {
     "data": {
      "image/png": "[encoded data removed]",
      "text/plain": [
       "<Figure size 800x600 with 1 Axes>"
      ]
     },
     "metadata": {},
     "output_type": "display_data"
    }
   ],
   "source": [
    "# Plot confusion matrix\n",
    "import matplotlib.pyplot as plt\n",
    "import seaborn as sns\n",
    "plt.figure(figsize=(8, 6))\n",
    "sns.heatmap(cm, annot=True, fmt='d', cmap='Blues', cbar=False,\n",
    "            annot_kws={'fontsize': 15},\n",
    "            xticklabels=['Negative', 'Positive'], yticklabels=['Negative', 'Positive'])\n",
    "plt.xlabel('Predicted Label')\n",
    "plt.ylabel('True Label')\n",
    "plt.title('Confusion Matrix')\n",
    "plt.show()"
   ]
  },
  {
   "cell_type": "code",
   "execution_count": 57,
   "id": "8bbcde13",
   "metadata": {},
   "outputs": [
    {
     "name": "stdout",
     "output_type": "stream",
     "text": [
      "              precision    recall  f1-score   support\n",
      "\n",
      "    Negative       0.89      0.88      0.88      4961\n",
      "    Positive       0.88      0.89      0.89      5039\n",
      "\n",
      "    accuracy                           0.89     10000\n",
      "   macro avg       0.89      0.88      0.88     10000\n",
      "weighted avg       0.89      0.89      0.88     10000\n",
      "\n"
     ]
    }
   ],
   "source": [
    "# Display classification report\n",
    "from sklearn.metrics import classification_report\n",
    "print(classification_report(y_test, y_pred, target_names=['Negative', 'Positive']))"
   ]
  },
  {
   "cell_type": "code",
   "execution_count": 58,
   "id": "c1566b1d",
   "metadata": {},
   "outputs": [
    {
     "name": "stdout",
     "output_type": "stream",
     "text": [
      "1/1 [==============================] - 0s 37ms/step\n",
      "Review: 136 1 321 6 51 212 71 88 859 861 97 1 2630 6 14 667 1869 136 1 6597 3838 286 23 21 74 2 1 1006 5780 108 6 121 1 342 8884 5065 1 61 144 2479 6 5 63 2 2087 4662 9306 20 1 397 258 10 1737 12 13 1 321 29 341 33 77 1 116 33 67 16 48 33 25 18 1 206 63 388 15 68 70 8 1 86 1801 228 38 34 50 108 47 7343 396 2765 21 299 7256 443 10 118 18 22 185 6501 289 918 50 22 63 9 2 2087 4662 281 172 9 53 14 1 219 22 112 5 737 43 22 39 178 5 103 3 374 4 125 521 102 25 3 49 55 16 47 1407 2227 833 91 11 233 26 15 22 43 22 178 49 113 2 108 979 91 26 7126 5 163 3317\n",
      "True Sentiment: Negative\n",
      "Predicted Sentiment: Negative (Probability: 0.0008)\n",
      "\n",
      "1/1 [==============================] - 0s 39ms/step\n",
      "Review: 73 1451 260 1793 122 11 227 6 34 1071 22 346 5 38 139 5 1673 7 7 56 1354 13 3 1641 1622 15 1086 153 28 98 21 262 24 519 50 28 210 1 17 7 7 300 24 559 14 32 1836 28 281 4695 4532 121 1 1446 1 1622 1941 338 4 2856 2 763 580 790 20 24 8207 4 265 11 13 21 20 3 2766 1880 7 7 15 1951 1 957 8 1 3896 957 6 1 88 648 148 20 99 1446 2766 38 21 5 197 3 7447 30 12 55 6 39 369 227 50 3 1622 6 271 464 6381 28 6 464 6381 22 187 29 24 7093 2 849 1 2432 117 1 1962 23 800 11 6 748 228 8 3 69 676 28 576 1047 44 39 37 8 1208 7 7 152 148 6 56 1354 81 66 3 826 20 1779 188 73 63 85 8062 379 87 8538 8 1 1139 676 11 6 21 221 123 56 1354 29 1 954 1 826 90 7309 28 13 7 7 8062 2 2482 94 1 277 405 11 17 6 5151 15 29 1 370 6 790 7 7 50 73 77 118 12 5481 83 70 130 1126 20 1 11 19 217 32 1607 4844 7 7 43 22 178 5 63 3 144 704 42 3 6694 817 1789 7 7\n",
      "True Sentiment: Negative\n",
      "Predicted Sentiment: Negative (Probability: 0.0083)\n",
      "\n",
      "1/1 [==============================] - 0s 37ms/step\n",
      "Review: 2921 9396 297 4934 3 299 368 251 16 32 2 230 1729 454 20 40 4985 462 1592 5 948 250 261 40 361 35 6 2686 15 40 6445 4654 3044 4934 1094 4654 58 26 3 49 95 4 4257 40 2720 7 7 10 425 1 639 201 4934 2 7060 2180 14 7060 6 320 103 85 65 1334 944 252 79 23 6275 31 1 4199\n",
      "True Sentiment: Positive\n",
      "Predicted Sentiment: Positive (Probability: 0.9991)\n",
      "\n",
      "1/1 [==============================] - 0s 38ms/step\n",
      "Review: 18 91 172 48 123 6 10 1624 11 53 30 56 701 1088 15 22 4468 9 3724 6487 913 7278 10 382 314 11 20 373 14 3 1383 2 532 9 13 3 594 493 96 74 1 19 2 56 1811 89 1026 3002 92 21 3 96 488 95 5 2315 3 374 632 2 9 6 3338 5 63 47 6590 987 6158 2 963 2671 2671 2671 128 429 128 10 576 101 4 231 329 5 131 42 11 493 39 5401 735 5 908 1 713 347 2579 49 11 6 1151 39 85 74 6 11 17 12 1 116 10 98 215 53 16 8 5510 5 9 70 708 4 3043 34 548 713 409 4 3043 6393 7344 713 409 23 249 5 215 31 50 22 185 382 42 3 19 22 39 287\n",
      "True Sentiment: Negative\n",
      "Predicted Sentiment: Negative (Probability: 0.0000)\n",
      "\n",
      "1/1 [==============================] - 0s 37ms/step\n",
      "Review: 3 114 8 659 7794 6 3 2141 1427 353 12 6096 1300 1262 16 9391 4354 9 6 441 20 1 114 4 2929 936 2195 35 2352 1549 8 1 3322 9 6 21 62 3 6061 30 224 21 27 8 1 2206 282 18 32 5027 4 1 19 2805 8 5377 7332 5201 8 32 456 1815 1419 840 162 22 6444 16 208 263 5 87 38 24 158 9 149 179 3277 1 5587 18 9 124 94 22 386 9 32 1249 4341 14 73 63 6079 121 1 574 4 3006 8 3 5747 692 909 411 176 32 320 4 1 201 190 2 2630 8 443 315 633 6 9445 49 1 4 4733 3359 158 6 922 4060 15 1 1146 6 1 116 19 198 107 11 301 34 225\n",
      "True Sentiment: Positive\n",
      "Predicted Sentiment: Positive (Probability: 0.9999)\n",
      "\n"
     ]
    }
   ],
   "source": [
    "# Display sample predictions\n",
    "sample_indices = np.random.choice(len(x_test), 5, replace=False)\n",
    "for index in sample_indices:\n",
    "    review_text = ' '.join([str(i) for i in x_test[index] if i != 0])  # Convert indices to string\n",
    "    true_sentiment = 'Positive' if y_test[index] == 1 else 'Negative'\n",
    "    predicted_sentiment = 'Positive' if y_pred[index] == 1 else 'Negative'\n",
    "    probability = model.predict(np.array([x_test[index]]))[0][0]\n",
    "\n",
    "    print(f\"Review: {review_text}\")\n",
    "    print(f\"True Sentiment: {true_sentiment}\")\n",
    "    print(f\"Predicted Sentiment: {predicted_sentiment} (Probability: {probability:.4f})\")\n",
    "    print()"
   ]
  },
  {
   "cell_type": "code",
   "execution_count": null,
   "id": "440cd135",
   "metadata": {},
   "outputs": [],
   "source": []
  }
 ],
 "metadata": {
  "kernelspec": {
   "display_name": "Python 3 (ipykernel)",
   "language": "python",
   "name": "python3"
  },
  "language_info": {
   "codemirror_mode": {
    "name": "ipython",
    "version": 3
   },
   "file_extension": ".py",
   "mimetype": "text/x-python",
   "name": "python",
   "nbconvert_exporter": "python",
   "pygments_lexer": "ipython3",
   "version": "3.9.5"
  }
 },
 "nbformat": 4,
 "nbformat_minor": 5
}
